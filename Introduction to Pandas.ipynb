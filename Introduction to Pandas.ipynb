{
 "cells": [
  {
   "cell_type": "code",
   "execution_count": 10,
   "id": "66b16b35-f0d5-4649-9618-840ac14543f7",
   "metadata": {},
   "outputs": [],
   "source": [
    "# Dependency needed to install file \n",
    "\n",
    "# If running the notebook on your machine, else leave it commented\n",
    "# !pip install xlrd\n",
    "\n",
    "# !pip install openpyxl \n",
    "# import piplite\n",
    "# await piplite.install(['xlrd','openpyxl'])"
   ]
  },
  {
   "cell_type": "code",
   "execution_count": 11,
   "id": "abc98a12-b6d4-43e5-a071-002cce496763",
   "metadata": {},
   "outputs": [],
   "source": [
    "import pandas as pd"
   ]
  },
  {
   "cell_type": "code",
   "execution_count": 12,
   "id": "36e5d6d5-f96d-466b-928a-4118662340a0",
   "metadata": {},
   "outputs": [],
   "source": [
    "\n",
    "\n",
    " csv_path = 'https://cf-courses-data.s3.us.cloud-object-storage.appdomain.cloud/IBMDeveloperSkillsNetwork-PY0101EN-SkillsNetwork/labs/Module%204/data/TopSellingAlbums.csv'\n",
    " df = pd.read_csv(csv_path)"
   ]
  },
  {
   "cell_type": "code",
   "execution_count": null,
   "id": "54a080bf-37a4-4b40-b9cd-727c79c90b35",
   "metadata": {},
   "outputs": [],
   "source": []
  },
  {
   "cell_type": "code",
   "execution_count": 13,
   "id": "2f45c091-5a00-4081-bb5b-14293c448252",
   "metadata": {},
   "outputs": [
    {
     "name": "stdout",
     "output_type": "stream",
     "text": [
      "Requirement already satisfied: xlrd in c:\\users\\deii\\anaconda3\\lib\\site-packages (2.0.1)\n",
      "Requirement already satisfied: openpyxl in c:\\users\\deii\\anaconda3\\lib\\site-packages (3.0.10)\n",
      "Requirement already satisfied: et_xmlfile in c:\\users\\deii\\anaconda3\\lib\\site-packages (from openpyxl) (1.1.0)\n"
     ]
    }
   ],
   "source": [
    "!pip install xlrd openpyxl"
   ]
  },
  {
   "cell_type": "code",
   "execution_count": 14,
   "id": "20930f04-048c-499f-9fba-51aa3ccec3b3",
   "metadata": {},
   "outputs": [],
   "source": [
    "import requests\n",
    "import pandas as pd\n",
    "\n",
    "# URL of the CSV file\n",
    "url = \"https://cf-courses-data.s3.us.cloud-object-storage.appdomain.cloud/IBMDeveloperSkillsNetwork-PY0101EN-SkillsNetwork/labs/Module%\"\n"
   ]
  },
  {
   "cell_type": "code",
   "execution_count": 15,
   "id": "9d00a31a-94cc-4c23-99c5-8aa5efcc80e0",
   "metadata": {},
   "outputs": [],
   "source": [
    "# import requests\n",
    "# import pandas as pd\n",
    "\n",
    "# # URL of the CSV file\n",
    "# url = \"https://cf-courses-data.s3.us.cloud-object-storage.appdomain.cloud/IBMDeveloperSkillsNetwork-PY0101EN-SkillsNetwork/labs/Module%204/data/TopSellingAlbums.csv\"\n",
    "\n",
    "# # Fetch the data from the URL\n",
    "# response = requests.get(url)\n",
    "# response.raise_for_status()  # Check that the request was successful\n",
    "\n",
    "# # Save the content to a file\n",
    "# with open(\"/mnt/data/TopSellingAlbums.csv\", \"wb\") as f:\n",
    "#     f.write(response.content)\n"
   ]
  },
  {
   "cell_type": "code",
   "execution_count": 16,
   "id": "6381be83-3def-4461-8b13-18d8d290b565",
   "metadata": {},
   "outputs": [],
   "source": [
    "filename = \"https://cf-courses-data.s3.us.cloud-object-storage.appdomain.cloud/IBMDeveloperSkillsNetwork-PY0101EN-SkillsNetwork/labs/Module%204/data/TopSellingAlbums.csv\"\n",
    "\n",
    "df.to_csv('first_data.csv', index=False)\n"
   ]
  },
  {
   "cell_type": "code",
   "execution_count": 23,
   "id": "0899ec71-68f2-467f-ac0a-8f9f0103c06a",
   "metadata": {},
   "outputs": [],
   "source": [
    "import pandas as pd\n",
    "a = pd.DataFrame(df)"
   ]
  },
  {
   "cell_type": "code",
   "execution_count": 24,
   "id": "05a1015f-834f-4183-a456-c77baed7050f",
   "metadata": {},
   "outputs": [
    {
     "name": "stdout",
     "output_type": "stream",
     "text": [
      "            Artist                            Album  Released   Length  \\\n",
      "0  Michael Jackson                         Thriller      1982  0:42:19   \n",
      "1            AC/DC                    Back in Black      1980  0:42:11   \n",
      "2       Pink Floyd        The Dark Side of the Moon      1973  0:42:49   \n",
      "3  Whitney Houston                    The Bodyguard      1992  0:57:44   \n",
      "4        Meat Loaf                  Bat Out of Hell      1977  0:46:33   \n",
      "5           Eagles  Their Greatest Hits (1971-1975)      1976  0:43:08   \n",
      "6         Bee Gees             Saturday Night Fever      1977  1:15:54   \n",
      "7    Fleetwood Mac                          Rumours      1977  0:40:01   \n",
      "\n",
      "                         Genre  Music Recording Sales (millions)  \\\n",
      "0               pop, rock, R&B                              46.0   \n",
      "1                    hard rock                              26.1   \n",
      "2             progressive rock                              24.2   \n",
      "3               R&B, soul, pop                              27.4   \n",
      "4  hard rock, progressive rock                              20.6   \n",
      "5   rock, soft rock, folk rock                              32.2   \n",
      "6                        disco                              20.6   \n",
      "7                    soft rock                              27.9   \n",
      "\n",
      "   Claimed Sales (millions) Released.1 Soundtrack  Rating  \n",
      "0                        65  30-Nov-82        NaN    10.0  \n",
      "1                        50  25-Jul-80        NaN     9.5  \n",
      "2                        45  01-Mar-73        NaN     9.0  \n",
      "3                        44  17-Nov-92          Y     8.5  \n",
      "4                        43  21-Oct-77        NaN     8.0  \n",
      "5                        42  17-Feb-76        NaN     7.5  \n",
      "6                        40  15-Nov-77          Y     7.0  \n",
      "7                        40  04-Feb-77        NaN     6.5  \n"
     ]
    }
   ],
   "source": [
    "print(a)"
   ]
  },
  {
   "cell_type": "code",
   "execution_count": 25,
   "id": "0c562813-9d7d-44ed-b0c9-81cfea498228",
   "metadata": {},
   "outputs": [
    {
     "name": "stdout",
     "output_type": "stream",
     "text": [
      "            Artist                            Album\n",
      "0  Michael Jackson                         Thriller\n",
      "1            AC/DC                    Back in Black\n",
      "2       Pink Floyd        The Dark Side of the Moon\n",
      "3  Whitney Houston                    The Bodyguard\n",
      "4        Meat Loaf                  Bat Out of Hell\n",
      "5           Eagles  Their Greatest Hits (1971-1975)\n",
      "6         Bee Gees             Saturday Night Fever\n",
      "7    Fleetwood Mac                          Rumours\n"
     ]
    }
   ],
   "source": [
    "print(df[['Artist', 'Album']])"
   ]
  },
  {
   "cell_type": "code",
   "execution_count": 26,
   "id": "02c676e9-42e4-43d3-9f57-ab6edbc53ae4",
   "metadata": {},
   "outputs": [
    {
     "data": {
      "text/plain": [
       "'Michael Jackson'"
      ]
     },
     "execution_count": 26,
     "metadata": {},
     "output_type": "execute_result"
    }
   ],
   "source": [
    "df.iloc[0,0]"
   ]
  },
  {
   "cell_type": "code",
   "execution_count": 27,
   "id": "b9d54640-10a0-4f1f-8fb5-7a84211542f1",
   "metadata": {},
   "outputs": [
    {
     "data": {
      "text/plain": [
       "'Thriller'"
      ]
     },
     "execution_count": 27,
     "metadata": {},
     "output_type": "execute_result"
    }
   ],
   "source": [
    "df.loc[0, \"Album\"]"
   ]
  },
  {
   "cell_type": "markdown",
   "id": "65d0078e-6597-4676-bf06-afd9bae75ff4",
   "metadata": {},
   "source": [
    "## Quiz on DataFrame"
   ]
  },
  {
   "cell_type": "markdown",
   "id": "9516e2f1-9c60-4ea5-a438-e18fd16009e7",
   "metadata": {},
   "source": [
    "Use a variable <code>q</code> to store the column <b>Rating</b> as a dataframe"
   ]
  },
  {
   "cell_type": "code",
   "execution_count": 28,
   "id": "4c054249-0567-46bd-ab9d-6d67e887f6b4",
   "metadata": {},
   "outputs": [],
   "source": [
    "q = df[['Rating']]"
   ]
  },
  {
   "cell_type": "code",
   "execution_count": 29,
   "id": "6a5e07f2-36ee-4c89-a38f-ea25897a2dc8",
   "metadata": {},
   "outputs": [
    {
     "name": "stdout",
     "output_type": "stream",
     "text": [
      "   Rating\n",
      "0    10.0\n",
      "1     9.5\n",
      "2     9.0\n",
      "3     8.5\n",
      "4     8.0\n",
      "5     7.5\n",
      "6     7.0\n",
      "7     6.5\n"
     ]
    }
   ],
   "source": [
    "print(q)"
   ]
  },
  {
   "cell_type": "code",
   "execution_count": 30,
   "id": "09641612-9532-48ae-929e-6bd5de8148b2",
   "metadata": {},
   "outputs": [
    {
     "data": {
      "text/plain": [
       "1980"
      ]
     },
     "execution_count": 30,
     "metadata": {},
     "output_type": "execute_result"
    }
   ],
   "source": [
    "df.iloc[1, 2]"
   ]
  },
  {
   "cell_type": "markdown",
   "id": "71c956e4-35d8-4973-85d7-f98218d991d2",
   "metadata": {},
   "source": [
    "Use the following list to convert the dataframe index <code>df</code> to characters and assign it to <code>df_new</code>; find the element corresponding to the row index <code>a</code> and column  <code>'Artist'</code>. Then select the rows <code>a</code> through <code>d</code> for the column  <code>'Artist'</code>\n"
   ]
  },
  {
   "cell_type": "code",
   "execution_count": 31,
   "id": "20811b54-089f-4c95-8b96-27cdd74d561b",
   "metadata": {},
   "outputs": [
    {
     "data": {
      "text/plain": [
       "'Michael Jackson'"
      ]
     },
     "execution_count": 31,
     "metadata": {},
     "output_type": "execute_result"
    }
   ],
   "source": [
    "new_index=['a','b','c','d','e','f','g','h']\n",
    "df_new = df\n",
    "df_new.index = new_index\n",
    "df_new.loc[\"a\", \"Artist\"]"
   ]
  },
  {
   "cell_type": "code",
   "execution_count": 32,
   "id": "6c969708-fa43-445e-9d29-eee62d30787c",
   "metadata": {},
   "outputs": [
    {
     "name": "stdout",
     "output_type": "stream",
     "text": [
      "            Artist                            Album  Released   Length  \\\n",
      "a  Michael Jackson                         Thriller      1982  0:42:19   \n",
      "b            AC/DC                    Back in Black      1980  0:42:11   \n",
      "c       Pink Floyd        The Dark Side of the Moon      1973  0:42:49   \n",
      "d  Whitney Houston                    The Bodyguard      1992  0:57:44   \n",
      "e        Meat Loaf                  Bat Out of Hell      1977  0:46:33   \n",
      "f           Eagles  Their Greatest Hits (1971-1975)      1976  0:43:08   \n",
      "g         Bee Gees             Saturday Night Fever      1977  1:15:54   \n",
      "h    Fleetwood Mac                          Rumours      1977  0:40:01   \n",
      "\n",
      "                         Genre  Music Recording Sales (millions)  \\\n",
      "a               pop, rock, R&B                              46.0   \n",
      "b                    hard rock                              26.1   \n",
      "c             progressive rock                              24.2   \n",
      "d               R&B, soul, pop                              27.4   \n",
      "e  hard rock, progressive rock                              20.6   \n",
      "f   rock, soft rock, folk rock                              32.2   \n",
      "g                        disco                              20.6   \n",
      "h                    soft rock                              27.9   \n",
      "\n",
      "   Claimed Sales (millions) Released.1 Soundtrack  Rating  \n",
      "a                        65  30-Nov-82        NaN    10.0  \n",
      "b                        50  25-Jul-80        NaN     9.5  \n",
      "c                        45  01-Mar-73        NaN     9.0  \n",
      "d                        44  17-Nov-92          Y     8.5  \n",
      "e                        43  21-Oct-77        NaN     8.0  \n",
      "f                        42  17-Feb-76        NaN     7.5  \n",
      "g                        40  15-Nov-77          Y     7.0  \n",
      "h                        40  04-Feb-77        NaN     6.5  \n"
     ]
    }
   ],
   "source": [
    "print(df_new)"
   ]
  },
  {
   "cell_type": "code",
   "execution_count": 34,
   "id": "56f5a13f-a6a6-4c28-b6df-85c2aaaec076",
   "metadata": {},
   "outputs": [
    {
     "ename": "NameError",
     "evalue": "name 'pandas' is not defined",
     "output_type": "error",
     "traceback": [
      "\u001b[1;31m---------------------------------------------------------------------------\u001b[0m",
      "\u001b[1;31mNameError\u001b[0m                                 Traceback (most recent call last)",
      "Cell \u001b[1;32mIn[34], line 2\u001b[0m\n\u001b[0;32m      1\u001b[0m \u001b[38;5;28;01mimport\u001b[39;00m \u001b[38;5;21;01mpandas\u001b[39;00m \u001b[38;5;28;01mas\u001b[39;00m \u001b[38;5;21;01mpd\u001b[39;00m\n\u001b[1;32m----> 2\u001b[0m j \u001b[38;5;241m=\u001b[39m pandas\u001b[38;5;241m.\u001b[39mread_csv(\u001b[38;5;124m\"\u001b[39m\u001b[38;5;124mfirst_data.csv\u001b[39m\u001b[38;5;124m\"\u001b[39m)\n",
      "\u001b[1;31mNameError\u001b[0m: name 'pandas' is not defined"
     ]
    }
   ],
   "source": [
    "import pandas as pd\n",
    "j = pandas.read_csv(\"first_data.csv\")"
   ]
  },
  {
   "cell_type": "code",
   "execution_count": null,
   "id": "01b1833d-3aad-4574-8163-6391a18c1a8c",
   "metadata": {},
   "outputs": [],
   "source": []
  }
 ],
 "metadata": {
  "kernelspec": {
   "display_name": "Python 3 (ipykernel)",
   "language": "python",
   "name": "python3"
  },
  "language_info": {
   "codemirror_mode": {
    "name": "ipython",
    "version": 3
   },
   "file_extension": ".py",
   "mimetype": "text/x-python",
   "name": "python",
   "nbconvert_exporter": "python",
   "pygments_lexer": "ipython3",
   "version": "3.11.7"
  }
 },
 "nbformat": 4,
 "nbformat_minor": 5
}
